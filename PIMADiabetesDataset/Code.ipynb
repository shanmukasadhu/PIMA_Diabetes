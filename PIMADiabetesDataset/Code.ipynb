{
 "cells": [
  {
   "cell_type": "code",
   "execution_count": 91,
   "id": "21396c0c",
   "metadata": {},
   "outputs": [],
   "source": [
    "import pandas as pd \n",
    "import numpy as np\n",
    "from sklearn.model_selection import train_test_split\n",
    "import matplotlib.pyplot as plt\n",
    "import warnings\n",
    "warnings.filterwarnings('ignore')"
   ]
  },
  {
   "cell_type": "markdown",
   "id": "f758a088",
   "metadata": {},
   "source": [
    "## Importing and Splitting Diabetes Training set\n",
    "\n",
    "Shapes:\n",
    "\n",
    "X_train: (614, 8)\n",
    "\n",
    "X_test: (77, 8)\n",
    "\n",
    "X_val: (77, 8)\n",
    "\n",
    "y_train:(614,1)\n",
    "\n",
    "y_test:(77,1)\n",
    "\n",
    "y_val:(77,1)"
   ]
  },
  {
   "cell_type": "code",
   "execution_count": 47,
   "id": "ec010ba8",
   "metadata": {},
   "outputs": [],
   "source": [
    "official_diabetes = pd.read_csv(\"diabetes.csv\")\n",
    "official_diabetes\n",
    "X = official_diabetes[[\"Pregnancies\",\"Glucose\", \"BloodPressure\", \"SkinThickness\", \"Insulin\", \"BMI\", \"DiabetesPedigreeFunction\", \"Age\"]]\n",
    "y = official_diabetes[[\"Outcome\"]]\n",
    "X_train, X_temp, y_train, y_temp = train_test_split(X, y, test_size=0.2, random_state=42)\n",
    "X_val, X_test, y_val, y_test = train_test_split(X_temp, y_temp, test_size=0.5, random_state=42)\n"
   ]
  },
  {
   "cell_type": "markdown",
   "id": "7bb7a590",
   "metadata": {},
   "source": [
    "### Classification without pre-processing "
   ]
  },
  {
   "cell_type": "code",
   "execution_count": 52,
   "id": "f112f822",
   "metadata": {
    "scrolled": true
   },
   "outputs": [],
   "source": [
    "from sklearn.linear_model import LogisticRegression\n",
    "#Instantiating Logistic Regression\n",
    "Logistic_model = LogisticRegression()\n",
    "\n",
    "Logistic_model.fit(X_train, y_train)\n",
    "\n",
    "\n",
    "y_pred_logistic = Logistic_model.predict(X_test)\n"
   ]
  },
  {
   "cell_type": "code",
   "execution_count": 99,
   "id": "4a888f01",
   "metadata": {},
   "outputs": [
    {
     "name": "stdout",
     "output_type": "stream",
     "text": [
      "Accuracy is: 72.72727272727273%\n",
      "F1 score is: 0.6666666666666666\n",
      "ROC score is: 0.7159090909090908\n"
     ]
    }
   ],
   "source": [
    "# Metrics\n",
    "from sklearn.metrics import f1_score, roc_auc_score, confusion_matrix, roc_curve\n",
    "logistic_f1_score = f1_score(y_pred_logistic,y_test)\n",
    "logistic_roc_score = roc_auc_score(y_pred_logistic,y_test)\n",
    "Logistic_score = Logistic_model.score(X_test, y_test)\n",
    "\n",
    "\n",
    "print(\"Accuracy is: \"+str(Logistic_score*100)+\"%\")\n",
    "print(\"F1 score is: \"+str(logistic_f1_score))\n",
    "print(\"ROC score is: \"+str(logistic_roc_score))"
   ]
  },
  {
   "cell_type": "code",
   "execution_count": 100,
   "id": "b1252d91",
   "metadata": {},
   "outputs": [
    {
     "data": {
      "image/png": "[encoded data removed]",
      "text/plain": [
       "<Figure size 400x400 with 1 Axes>"
      ]
     },
     "metadata": {},
     "output_type": "display_data"
    }
   ],
   "source": [
    "confmat = confusion_matrix(y_true=y_test, y_pred=y_pred_logistic)\n",
    "\n",
    "fig, ax = plt.subplots(figsize=(4,4))\n",
    "ax.matshow(confmat, cmap=plt.cm.Blues, alpha=0.3)\n",
    "for i in range(confmat.shape[0]):\n",
    "    for j in range(confmat.shape[1]):\n",
    "        ax.text(x=j, y=i, s=confmat[i, j], va='center', ha='center')\n",
    "plt.xlabel('Predicted label')\n",
    "plt.ylabel('True label')\n",
    "plt.title(\"Confusion Matrix for Logistic Regression: \")\n",
    "\n",
    "plt.show()"
   ]
  },
  {
   "cell_type": "code",
   "execution_count": 56,
   "id": "303bb4eb",
   "metadata": {},
   "outputs": [
    {
     "name": "stdout",
     "output_type": "stream",
     "text": [
      "Accuracy is: 75.32467532467533%\n",
      "F1 score is: 0.6415094339622641\n",
      "ROC score is: 0.749194847020934\n"
     ]
    }
   ],
   "source": [
    "from sklearn import svm\n",
    "\n",
    "SVM_model = svm.SVC()\n",
    "SVM_model.fit(X_train, y_train)\n",
    "\n",
    "y_pred_svm = SVM_model.predict(X_test)\n",
    "\n",
    "svm_f1_score = f1_score(y_pred_svm,y_test)\n",
    "svm_roc_score = roc_auc_score(y_pred_svm,y_test)\n",
    "svm_score = SVM_model.score(X_test, y_test)\n",
    "\n",
    "print(\"Accuracy is: \"+str(svm_score*100)+\"%\")\n",
    "print(\"F1 score is: \"+str(svm_f1_score))\n",
    "print(\"ROC score is: \"+str(svm_roc_score))"
   ]
  },
  {
   "cell_type": "code",
   "execution_count": 59,
   "id": "e55007d2",
   "metadata": {},
   "outputs": [
    {
     "name": "stdout",
     "output_type": "stream",
     "text": [
      "Accuracy is: 75.32467532467533%\n",
      "F1 score is: 0.6885245901639343\n",
      "ROC score is: 0.740883590462833\n",
      "\n",
      "Accuracy is: 66.23376623376623%\n",
      "F1 score is: 0.5357142857142857\n",
      "ROC score is: 0.6414027149321266\n"
     ]
    }
   ],
   "source": [
    "from sklearn.naive_bayes import GaussianNB\n",
    "from sklearn.naive_bayes import MultinomialNB\n",
    "\n",
    "GNB_model = GaussianNB()\n",
    "GNB_model.fit(X_train, y_train)\n",
    "\n",
    "y_pred_gnb = GNB_model.predict(X_test)\n",
    "\n",
    "gnb_f1_score = f1_score(y_pred_gnb,y_test)\n",
    "gnb_roc_score = roc_auc_score(y_pred_gnb,y_test)\n",
    "gnb_score = GNB_model.score(X_test, y_test)\n",
    "\n",
    "print(\"Accuracy is: \"+str(gnb_score*100)+\"%\")\n",
    "print(\"F1 score is: \"+str(gnb_f1_score))\n",
    "print(\"ROC score is: \"+str(gnb_roc_score))\n",
    "\n",
    "MNB_model = MultinomialNB()\n",
    "MNB_model.fit(X_train, y_train)\n",
    "\n",
    "y_pred_mnb = MNB_model.predict(X_test)\n",
    "\n",
    "mnb_f1_score = f1_score(y_pred_mnb,y_test)\n",
    "mnb_roc_score = roc_auc_score(y_pred_mnb,y_test)\n",
    "mnb_score = MNB_model.score(X_test, y_test)\n",
    "print(\"\")\n",
    "print(\"Accuracy is: \"+str(mnb_score*100)+\"%\")\n",
    "print(\"F1 score is: \"+str(mnb_f1_score))\n",
    "print(\"ROC score is: \"+str(mnb_roc_score))\n"
   ]
  },
  {
   "cell_type": "code",
   "execution_count": 60,
   "id": "84875438",
   "metadata": {},
   "outputs": [
    {
     "name": "stdout",
     "output_type": "stream",
     "text": [
      "Accuracy is: 62.33766233766234%\n",
      "F1 score is: 0.6329113924050633\n",
      "ROC score is: 0.6658163265306122\n"
     ]
    }
   ],
   "source": [
    "from sklearn.linear_model import SGDClassifier\n",
    "SGD_model = SGDClassifier()\n",
    "\n",
    "SGD_model.fit(X_train, y_train)\n",
    "\n",
    "y_pred_sgd = SGD_model.predict(X_test)\n",
    "\n",
    "sgd_f1_score = f1_score(y_pred_sgd,y_test)\n",
    "sgd_roc_score = roc_auc_score(y_pred_sgd,y_test)\n",
    "sgd_score = SGD_model.score(X_test, y_test)\n",
    "\n",
    "print(\"Accuracy is: \"+str(sgd_score*100)+\"%\")\n",
    "print(\"F1 score is: \"+str(sgd_f1_score))\n",
    "print(\"ROC score is: \"+str(sgd_roc_score))\n"
   ]
  },
  {
   "cell_type": "code",
   "execution_count": 62,
   "id": "c4149237",
   "metadata": {},
   "outputs": [
    {
     "name": "stdout",
     "output_type": "stream",
     "text": [
      "Accuracy is: 63.63636363636363%\n",
      "F1 score is: 0.5757575757575758\n",
      "ROC score is: 0.6297425474254742\n"
     ]
    }
   ],
   "source": [
    "from sklearn.neighbors import KNeighborsClassifier\n",
    "KNN_model = KNeighborsClassifier()\n",
    "\n",
    "KNN_model.fit(X_train, y_train)\n",
    "\n",
    "y_pred_knn = KNN_model.predict(X_test)\n",
    "\n",
    "knn_f1_score = f1_score(y_pred_knn,y_test)\n",
    "knn_roc_score = roc_auc_score(y_pred_knn,y_test)\n",
    "knn_score = KNN_model.score(X_test, y_test)\n",
    "\n",
    "print(\"Accuracy is: \"+str(knn_score*100)+\"%\")\n",
    "print(\"F1 score is: \"+str(knn_f1_score))\n",
    "print(\"ROC score is: \"+str(knn_roc_score))"
   ]
  },
  {
   "cell_type": "code",
   "execution_count": 81,
   "id": "b18b68ef",
   "metadata": {
    "collapsed": true
   },
   "outputs": [
    {
     "name": "stdout",
     "output_type": "stream",
     "text": [
      "[LightGBM] [Warning] feature_fraction is set=0.4, colsample_bytree=1.0 will be ignored. Current value: feature_fraction=0.4\n",
      "[LightGBM] [Warning] feature_fraction is set=0.4, colsample_bytree=1.0 will be ignored. Current value: feature_fraction=0.4\n",
      "[LightGBM] [Info] Number of positive: 213, number of negative: 401\n",
      "[LightGBM] [Info] Auto-choosing col-wise multi-threading, the overhead of testing was 0.000262 seconds.\n",
      "You can set `force_col_wise=true` to remove the overhead.\n",
      "[LightGBM] [Info] Total Bins 664\n",
      "[LightGBM] [Info] Number of data points in the train set: 614, number of used features: 8\n",
      "[LightGBM] [Info] [binary:BoostFromScore]: pavg=0.346906 -> initscore=-0.632669\n",
      "[LightGBM] [Info] Start training from score -0.632669\n",
      "[LightGBM] [Warning] No further splits with positive gain, best gain: -inf\n",
      "[LightGBM] [Warning] No further splits with positive gain, best gain: -inf\n",
      "[LightGBM] [Warning] No further splits with positive gain, best gain: -inf\n",
      "[LightGBM] [Warning] No further splits with positive gain, best gain: -inf\n",
      "[LightGBM] [Warning] No further splits with positive gain, best gain: -inf\n",
      "[LightGBM] [Warning] No further splits with positive gain, best gain: -inf\n",
      "[LightGBM] [Warning] No further splits with positive gain, best gain: -inf\n",
      "[LightGBM] [Warning] No further splits with positive gain, best gain: -inf\n",
      "[LightGBM] [Warning] No further splits with positive gain, best gain: -inf\n",
      "[LightGBM] [Warning] No further splits with positive gain, best gain: -inf\n",
      "[LightGBM] [Warning] No further splits with positive gain, best gain: -inf\n",
      "[LightGBM] [Warning] No further splits with positive gain, best gain: -inf\n",
      "[LightGBM] [Warning] No further splits with positive gain, best gain: -inf\n",
      "[LightGBM] [Warning] No further splits with positive gain, best gain: -inf\n",
      "[LightGBM] [Warning] No further splits with positive gain, best gain: -inf\n",
      "[LightGBM] [Warning] No further splits with positive gain, best gain: -inf\n",
      "[LightGBM] [Warning] No further splits with positive gain, best gain: -inf\n",
      "[LightGBM] [Warning] No further splits with positive gain, best gain: -inf\n",
      "[LightGBM] [Warning] No further splits with positive gain, best gain: -inf\n",
      "[LightGBM] [Warning] No further splits with positive gain, best gain: -inf\n",
      "[LightGBM] [Warning] No further splits with positive gain, best gain: -inf\n",
      "[LightGBM] [Warning] No further splits with positive gain, best gain: -inf\n",
      "[LightGBM] [Warning] No further splits with positive gain, best gain: -inf\n",
      "[LightGBM] [Warning] No further splits with positive gain, best gain: -inf\n",
      "[LightGBM] [Warning] No further splits with positive gain, best gain: -inf\n",
      "[LightGBM] [Warning] No further splits with positive gain, best gain: -inf\n",
      "[LightGBM] [Warning] No further splits with positive gain, best gain: -inf\n",
      "[LightGBM] [Warning] No further splits with positive gain, best gain: -inf\n",
      "[LightGBM] [Warning] No further splits with positive gain, best gain: -inf\n",
      "[LightGBM] [Warning] No further splits with positive gain, best gain: -inf\n",
      "[LightGBM] [Warning] No further splits with positive gain, best gain: -inf\n",
      "[LightGBM] [Warning] No further splits with positive gain, best gain: -inf\n",
      "[LightGBM] [Warning] No further splits with positive gain, best gain: -inf\n",
      "[LightGBM] [Warning] No further splits with positive gain, best gain: -inf\n",
      "[LightGBM] [Warning] No further splits with positive gain, best gain: -inf\n",
      "[LightGBM] [Warning] No further splits with positive gain, best gain: -inf\n",
      "[LightGBM] [Warning] No further splits with positive gain, best gain: -inf\n",
      "[LightGBM] [Warning] No further splits with positive gain, best gain: -inf\n",
      "[LightGBM] [Warning] No further splits with positive gain, best gain: -inf\n",
      "[LightGBM] [Warning] No further splits with positive gain, best gain: -inf\n",
      "[LightGBM] [Warning] No further splits with positive gain, best gain: -inf\n",
      "[LightGBM] [Warning] No further splits with positive gain, best gain: -inf\n",
      "[LightGBM] [Warning] No further splits with positive gain, best gain: -inf\n",
      "[LightGBM] [Warning] No further splits with positive gain, best gain: -inf\n",
      "[LightGBM] [Warning] No further splits with positive gain, best gain: -inf\n",
      "[LightGBM] [Warning] No further splits with positive gain, best gain: -inf\n",
      "[LightGBM] [Warning] No further splits with positive gain, best gain: -inf\n",
      "[LightGBM] [Warning] No further splits with positive gain, best gain: -inf\n",
      "[LightGBM] [Warning] No further splits with positive gain, best gain: -inf\n",
      "[LightGBM] [Warning] No further splits with positive gain, best gain: -inf\n",
      "[LightGBM] [Warning] No further splits with positive gain, best gain: -inf\n",
      "[LightGBM] [Warning] No further splits with positive gain, best gain: -inf\n",
      "[LightGBM] [Warning] No further splits with positive gain, best gain: -inf\n",
      "[LightGBM] [Warning] No further splits with positive gain, best gain: -inf\n",
      "[LightGBM] [Warning] No further splits with positive gain, best gain: -inf\n",
      "[LightGBM] [Warning] No further splits with positive gain, best gain: -inf\n",
      "[LightGBM] [Warning] No further splits with positive gain, best gain: -inf\n",
      "[LightGBM] [Warning] No further splits with positive gain, best gain: -inf\n",
      "[LightGBM] [Warning] No further splits with positive gain, best gain: -inf\n",
      "[LightGBM] [Warning] No further splits with positive gain, best gain: -inf\n",
      "[LightGBM] [Warning] No further splits with positive gain, best gain: -inf\n",
      "[LightGBM] [Warning] No further splits with positive gain, best gain: -inf\n",
      "[LightGBM] [Warning] No further splits with positive gain, best gain: -inf\n",
      "[LightGBM] [Warning] No further splits with positive gain, best gain: -inf\n",
      "[LightGBM] [Warning] No further splits with positive gain, best gain: -inf\n",
      "[LightGBM] [Warning] No further splits with positive gain, best gain: -inf\n",
      "[LightGBM] [Warning] No further splits with positive gain, best gain: -inf\n",
      "[LightGBM] [Warning] No further splits with positive gain, best gain: -inf\n",
      "[LightGBM] [Warning] No further splits with positive gain, best gain: -inf\n",
      "[LightGBM] [Warning] No further splits with positive gain, best gain: -inf\n",
      "[LightGBM] [Warning] No further splits with positive gain, best gain: -inf\n",
      "[LightGBM] [Warning] No further splits with positive gain, best gain: -inf\n",
      "[LightGBM] [Warning] No further splits with positive gain, best gain: -inf\n",
      "[LightGBM] [Warning] No further splits with positive gain, best gain: -inf\n",
      "[LightGBM] [Warning] No further splits with positive gain, best gain: -inf\n",
      "[LightGBM] [Warning] No further splits with positive gain, best gain: -inf\n",
      "[LightGBM] [Warning] No further splits with positive gain, best gain: -inf\n",
      "[LightGBM] [Warning] No further splits with positive gain, best gain: -inf\n",
      "[LightGBM] [Warning] No further splits with positive gain, best gain: -inf\n",
      "[LightGBM] [Warning] No further splits with positive gain, best gain: -inf\n",
      "[LightGBM] [Warning] No further splits with positive gain, best gain: -inf\n",
      "[LightGBM] [Warning] No further splits with positive gain, best gain: -inf\n",
      "[LightGBM] [Warning] No further splits with positive gain, best gain: -inf\n",
      "[LightGBM] [Warning] No further splits with positive gain, best gain: -inf\n",
      "[LightGBM] [Warning] No further splits with positive gain, best gain: -inf\n",
      "[LightGBM] [Warning] No further splits with positive gain, best gain: -inf\n",
      "[LightGBM] [Warning] No further splits with positive gain, best gain: -inf\n",
      "[LightGBM] [Warning] No further splits with positive gain, best gain: -inf\n",
      "[LightGBM] [Warning] No further splits with positive gain, best gain: -inf\n",
      "[LightGBM] [Warning] No further splits with positive gain, best gain: -inf\n",
      "[LightGBM] [Warning] No further splits with positive gain, best gain: -inf\n",
      "[LightGBM] [Warning] No further splits with positive gain, best gain: -inf\n",
      "[LightGBM] [Warning] No further splits with positive gain, best gain: -inf\n",
      "[LightGBM] [Warning] No further splits with positive gain, best gain: -inf\n",
      "[LightGBM] [Warning] No further splits with positive gain, best gain: -inf\n",
      "[LightGBM] [Warning] No further splits with positive gain, best gain: -inf\n",
      "[LightGBM] [Warning] No further splits with positive gain, best gain: -inf\n",
      "[LightGBM] [Warning] No further splits with positive gain, best gain: -inf\n",
      "[LightGBM] [Warning] No further splits with positive gain, best gain: -inf\n",
      "[LightGBM] [Warning] No further splits with positive gain, best gain: -inf\n",
      "[LightGBM] [Warning] feature_fraction is set=0.4, colsample_bytree=1.0 will be ignored. Current value: feature_fraction=0.4\n",
      "[LightGBM] [Warning] feature_fraction is set=0.4, colsample_bytree=1.0 will be ignored. Current value: feature_fraction=0.4\n",
      "Accuracy is: 75.32467532467533%\n",
      "F1 score is: 0.6885245901639343\n",
      "ROC score is: 0.740883590462833\n"
     ]
    }
   ],
   "source": [
    "from lightgbm import LGBMClassifier\n",
    "params = {'objective': 'binary',\n",
    "'boosting_type': 'gbdt',\n",
    "'num_leaves': 40,\n",
    "'learning_rate': 0.1,\n",
    "'feature_fraction': 0.4}\n",
    "lgb_model = LGBMClassifier(**params)\n",
    "lgb_model.fit(X_train, y_train)\n",
    "\n",
    "y_pred_lgb = lgb_model.predict(X_test)\n",
    "\n",
    "lgb_f1_score = f1_score(y_pred_lgb,y_test)\n",
    "lgb_roc_score = roc_auc_score(y_pred_lgb,y_test)\n",
    "lgb_score = lgb_model.score(X_test, y_test)\n",
    "\n",
    "print(\"Accuracy is: \"+str(lgb_score*100)+\"%\")\n",
    "print(\"F1 score is: \"+str(lgb_f1_score))\n",
    "print(\"ROC score is: \"+str(lgb_roc_score))\n",
    "\n",
    "#Accuracy is: 75.32467532467533%\n",
    "#F1 score is: 0.6885245901639343\n",
    "#ROC score is: 0.740883590462833"
   ]
  },
  {
   "cell_type": "code",
   "execution_count": 86,
   "id": "d13852ca",
   "metadata": {},
   "outputs": [
    {
     "name": "stdout",
     "output_type": "stream",
     "text": [
      "Accuracy is: 70.12987012987013%\n",
      "F1 score is: 0.6461538461538462\n",
      "ROC score is: 0.6928571428571428\n"
     ]
    }
   ],
   "source": [
    "from xgboost.sklearn import XGBClassifier\n",
    "\n",
    "xgb_model = XGBClassifier()\n",
    "xgb_model.fit(X_train, y_train)\n",
    "\n",
    "y_pred_xgb = xgb_model.predict(X_test)\n",
    "\n",
    "xgb_f1_score = f1_score(y_pred_xgb,y_test)\n",
    "xgb_roc_score = roc_auc_score(y_pred_xgb,y_test)\n",
    "xgb_score = xgb_model.score(X_test, y_test)\n",
    "\n",
    "print(\"Accuracy is: \"+str(xgb_score*100)+\"%\")\n",
    "print(\"F1 score is: \"+str(xgb_f1_score))\n",
    "print(\"ROC score is: \"+str(xgb_roc_score))\n"
   ]
  },
  {
   "cell_type": "code",
   "execution_count": 113,
   "id": "e4c039a1",
   "metadata": {},
   "outputs": [
    {
     "data": {
      "image/png": "[encoded data removed]",
      "text/plain": [
       "<Figure size 640x480 with 1 Axes>"
      ]
     },
     "metadata": {},
     "output_type": "display_data"
    }
   ],
   "source": [
    "fpr, tpr, thresholds = roc_curve(y_test, y_pred_logistic)\n",
    "plt.plot(fpr, tpr, lw=2, label='Logistic regression')\n",
    "\n",
    "fpr, tpr, thresholds = roc_curve(y_test, y_pred_svm)\n",
    "plt.plot(fpr, tpr, lw=2, label='Support Vector Machines')\n",
    "\n",
    "fpr, tpr, thresholds = roc_curve(y_test, y_pred_gnb)\n",
    "plt.plot(fpr, tpr, lw=2, label='Gaussian Naive Bayes')\n",
    "\n",
    "fpr, tpr, thresholds = roc_curve(y_test, y_pred_sgd)\n",
    "plt.plot(fpr, tpr, lw=2, label='Schoastic Gradient Descent')\n",
    "\n",
    "fpr, tpr, thresholds = roc_curve(y_test, y_pred_lgb)\n",
    "plt.plot(fpr, tpr, lw=2, label='LightGBM')\n",
    "\n",
    "plt.plot([0, 1],\n",
    "         [0, 1],\n",
    "         linestyle='--',\n",
    "         color='gray',\n",
    "         label='Random guessing')\n",
    "\n",
    "plt.plot([0, 0, 1],\n",
    "         [0, 1, 1],\n",
    "         linestyle='-.',\n",
    "         alpha=0.5,\n",
    "         color='red',\n",
    "         label='Perfect')\n",
    "plt.title(\"ROC: \")\n",
    "plt.legend()\n",
    "plt.show()"
   ]
  },
  {
   "cell_type": "markdown",
   "id": "af87ad21",
   "metadata": {},
   "source": [
    "## Pre-processing"
   ]
  },
  {
   "cell_type": "code",
   "execution_count": 118,
   "id": "b3ae9624",
   "metadata": {},
   "outputs": [
    {
     "data": {
      "text/plain": [
       "Pregnancies                    11.339272\n",
       "Glucose                      1020.917262\n",
       "BloodPressure                 374.159449\n",
       "SkinThickness                 254.141900\n",
       "Insulin                     13263.886875\n",
       "BMI                            62.079046\n",
       "DiabetesPedigreeFunction        0.109636\n",
       "Age                           138.122964\n",
       "Outcome                         0.227186\n",
       "dtype: float64"
      ]
     },
     "execution_count": 118,
     "metadata": {},
     "output_type": "execute_result"
    }
   ],
   "source": [
    "# Check for missing values:\n",
    "official_diabetes.isna().sum()\n",
    "\n",
    "#Standard Variance of each column:\n",
    "official_diabetes.var(ddof=0) # ddof: Delta degree of freedom"
   ]
  },
  {
   "cell_type": "code",
   "execution_count": 172,
   "id": "4d7fff56",
   "metadata": {},
   "outputs": [
    {
     "name": "stdout",
     "output_type": "stream",
     "text": [
      "1.0\n"
     ]
    }
   ],
   "source": [
    "#Standard Scalar\n",
    "\n",
    "from sklearn.preprocessing import StandardScaler\n",
    "\n",
    "ss = StandardScaler()\n",
    "\n",
    "from sklearn.preprocessing import Normalizer, MinMaxScaler\n",
    "\n",
    "norm = Normalizer()\n",
    "\n",
    "\n",
    "min_max_scaler = MinMaxScaler()\n",
    "\n",
    "\n",
    "official_diabetes_ss_X = ss.fit_transform(X)\n",
    "print(official_diabetes_ss_X.var(ddof=0))"
   ]
  },
  {
   "cell_type": "code",
   "execution_count": 173,
   "id": "95d4a1f0",
   "metadata": {},
   "outputs": [],
   "source": [
    "X_train_ss, X_temp_ss, y_train_ss, y_temp_ss = train_test_split(official_diabetes_ss_X, y, test_size=0.2, random_state=42)\n",
    "X_val_ss, X_test_ss, y_val_ss, y_test_ss = train_test_split(X_temp_ss, y_temp_ss, test_size=0.5, random_state=42)"
   ]
  },
  {
   "cell_type": "code",
   "execution_count": 174,
   "id": "d98a179a",
   "metadata": {},
   "outputs": [
    {
     "name": "stdout",
     "output_type": "stream",
     "text": [
      "Accuracy is: 72.72727272727273%\n",
      "F1 score is: 0.6666666666666666\n",
      "ROC score is: 0.7159090909090908\n"
     ]
    }
   ],
   "source": [
    "Logistic_model = LogisticRegression()\n",
    "\n",
    "Logistic_model.fit(X_train_ss, y_train_ss)\n",
    "\n",
    "y_pred_logistic_ss = Logistic_model.predict(X_test_ss)\n",
    "\n",
    "logistic_f1_score_ss = f1_score(y_pred_logistic_ss,y_test_ss)\n",
    "logistic_roc_score_ss = roc_auc_score(y_pred_logistic_ss,y_test_ss)\n",
    "Logistic_score_ss = Logistic_model.score(X_test_ss, y_test_ss)\n",
    "\n",
    "\n",
    "print(\"Accuracy is: \"+str(Logistic_score_ss*100)+\"%\")\n",
    "print(\"F1 score is: \"+str(logistic_f1_score_ss))\n",
    "print(\"ROC score is: \"+str(logistic_roc_score_ss))"
   ]
  },
  {
   "cell_type": "markdown",
   "id": "598dd40c",
   "metadata": {},
   "source": [
    "# Tensorflow Sequential Model"
   ]
  },
  {
   "cell_type": "code",
   "execution_count": 184,
   "id": "66966cf1",
   "metadata": {},
   "outputs": [
    {
     "name": "stdout",
     "output_type": "stream",
     "text": [
      "Epoch 1/50\n",
      "\u001b[1m16/16\u001b[0m \u001b[32m━━━━━━━━━━━━━━━━━━━━\u001b[0m\u001b[37m\u001b[0m \u001b[1m0s\u001b[0m 6ms/step - accuracy: 0.6672 - loss: 0.6127 - val_accuracy: 0.7561 - val_loss: 0.5102\n",
      "Epoch 2/50\n",
      "\u001b[1m16/16\u001b[0m \u001b[32m━━━━━━━━━━━━━━━━━━━━\u001b[0m\u001b[37m\u001b[0m \u001b[1m0s\u001b[0m 2ms/step - accuracy: 0.7817 - loss: 0.4779 - val_accuracy: 0.7561 - val_loss: 0.4757\n",
      "Epoch 3/50\n",
      "\u001b[1m16/16\u001b[0m \u001b[32m━━━━━━━━━━━━━━━━━━━━\u001b[0m\u001b[37m\u001b[0m \u001b[1m0s\u001b[0m 2ms/step - accuracy: 0.7860 - loss: 0.4503 - val_accuracy: 0.7561 - val_loss: 0.4788\n",
      "Epoch 4/50\n",
      "\u001b[1m16/16\u001b[0m \u001b[32m━━━━━━━━━━━━━━━━━━━━\u001b[0m\u001b[37m\u001b[0m \u001b[1m0s\u001b[0m 2ms/step - accuracy: 0.8105 - loss: 0.4145 - val_accuracy: 0.7561 - val_loss: 0.4751\n",
      "Epoch 5/50\n",
      "\u001b[1m16/16\u001b[0m \u001b[32m━━━━━━━━━━━━━━━━━━━━\u001b[0m\u001b[37m\u001b[0m \u001b[1m0s\u001b[0m 2ms/step - accuracy: 0.8090 - loss: 0.4131 - val_accuracy: 0.7561 - val_loss: 0.4761\n",
      "Epoch 6/50\n",
      "\u001b[1m16/16\u001b[0m \u001b[32m━━━━━━━━━━━━━━━━━━━━\u001b[0m\u001b[37m\u001b[0m \u001b[1m0s\u001b[0m 2ms/step - accuracy: 0.8081 - loss: 0.4105 - val_accuracy: 0.7724 - val_loss: 0.4725\n",
      "Epoch 7/50\n",
      "\u001b[1m16/16\u001b[0m \u001b[32m━━━━━━━━━━━━━━━━━━━━\u001b[0m\u001b[37m\u001b[0m \u001b[1m0s\u001b[0m 2ms/step - accuracy: 0.8231 - loss: 0.4016 - val_accuracy: 0.7398 - val_loss: 0.4780\n",
      "Epoch 8/50\n",
      "\u001b[1m16/16\u001b[0m \u001b[32m━━━━━━━━━━━━━━━━━━━━\u001b[0m\u001b[37m\u001b[0m \u001b[1m0s\u001b[0m 2ms/step - accuracy: 0.8169 - loss: 0.4045 - val_accuracy: 0.7480 - val_loss: 0.4753\n",
      "Epoch 9/50\n",
      "\u001b[1m16/16\u001b[0m \u001b[32m━━━━━━━━━━━━━━━━━━━━\u001b[0m\u001b[37m\u001b[0m \u001b[1m0s\u001b[0m 2ms/step - accuracy: 0.8401 - loss: 0.3728 - val_accuracy: 0.7398 - val_loss: 0.4723\n",
      "Epoch 10/50\n",
      "\u001b[1m16/16\u001b[0m \u001b[32m━━━━━━━━━━━━━━━━━━━━\u001b[0m\u001b[37m\u001b[0m \u001b[1m0s\u001b[0m 2ms/step - accuracy: 0.8178 - loss: 0.3841 - val_accuracy: 0.7561 - val_loss: 0.4802\n",
      "Epoch 11/50\n",
      "\u001b[1m16/16\u001b[0m \u001b[32m━━━━━━━━━━━━━━━━━━━━\u001b[0m\u001b[37m\u001b[0m \u001b[1m0s\u001b[0m 2ms/step - accuracy: 0.8095 - loss: 0.3749 - val_accuracy: 0.7398 - val_loss: 0.4570\n",
      "Epoch 12/50\n",
      "\u001b[1m16/16\u001b[0m \u001b[32m━━━━━━━━━━━━━━━━━━━━\u001b[0m\u001b[37m\u001b[0m \u001b[1m0s\u001b[0m 2ms/step - accuracy: 0.8541 - loss: 0.3522 - val_accuracy: 0.7480 - val_loss: 0.4611\n",
      "Epoch 13/50\n",
      "\u001b[1m16/16\u001b[0m \u001b[32m━━━━━━━━━━━━━━━━━━━━\u001b[0m\u001b[37m\u001b[0m \u001b[1m0s\u001b[0m 3ms/step - accuracy: 0.7966 - loss: 0.4109 - val_accuracy: 0.7480 - val_loss: 0.4705\n",
      "Epoch 14/50\n",
      "\u001b[1m16/16\u001b[0m \u001b[32m━━━━━━━━━━━━━━━━━━━━\u001b[0m\u001b[37m\u001b[0m \u001b[1m0s\u001b[0m 2ms/step - accuracy: 0.7991 - loss: 0.3849 - val_accuracy: 0.7317 - val_loss: 0.4745\n",
      "Epoch 15/50\n",
      "\u001b[1m16/16\u001b[0m \u001b[32m━━━━━━━━━━━━━━━━━━━━\u001b[0m\u001b[37m\u001b[0m \u001b[1m0s\u001b[0m 2ms/step - accuracy: 0.8291 - loss: 0.3734 - val_accuracy: 0.7724 - val_loss: 0.4791\n",
      "Epoch 16/50\n",
      "\u001b[1m16/16\u001b[0m \u001b[32m━━━━━━━━━━━━━━━━━━━━\u001b[0m\u001b[37m\u001b[0m \u001b[1m0s\u001b[0m 2ms/step - accuracy: 0.8307 - loss: 0.3693 - val_accuracy: 0.7398 - val_loss: 0.4828\n",
      "Epoch 17/50\n",
      "\u001b[1m16/16\u001b[0m \u001b[32m━━━━━━━━━━━━━━━━━━━━\u001b[0m\u001b[37m\u001b[0m \u001b[1m0s\u001b[0m 2ms/step - accuracy: 0.8244 - loss: 0.3672 - val_accuracy: 0.7398 - val_loss: 0.4719\n",
      "Epoch 18/50\n",
      "\u001b[1m16/16\u001b[0m \u001b[32m━━━━━━━━━━━━━━━━━━━━\u001b[0m\u001b[37m\u001b[0m \u001b[1m0s\u001b[0m 2ms/step - accuracy: 0.8099 - loss: 0.3774 - val_accuracy: 0.7398 - val_loss: 0.4804\n",
      "Epoch 19/50\n",
      "\u001b[1m16/16\u001b[0m \u001b[32m━━━━━━━━━━━━━━━━━━━━\u001b[0m\u001b[37m\u001b[0m \u001b[1m0s\u001b[0m 2ms/step - accuracy: 0.8589 - loss: 0.3330 - val_accuracy: 0.7642 - val_loss: 0.4830\n",
      "Epoch 20/50\n",
      "\u001b[1m16/16\u001b[0m \u001b[32m━━━━━━━━━━━━━━━━━━━━\u001b[0m\u001b[37m\u001b[0m \u001b[1m0s\u001b[0m 2ms/step - accuracy: 0.8806 - loss: 0.3110 - val_accuracy: 0.7480 - val_loss: 0.4680\n",
      "Epoch 21/50\n",
      "\u001b[1m16/16\u001b[0m \u001b[32m━━━━━━━━━━━━━━━━━━━━\u001b[0m\u001b[37m\u001b[0m \u001b[1m0s\u001b[0m 2ms/step - accuracy: 0.8671 - loss: 0.3328 - val_accuracy: 0.7724 - val_loss: 0.4800\n",
      "Epoch 22/50\n",
      "\u001b[1m16/16\u001b[0m \u001b[32m━━━━━━━━━━━━━━━━━━━━\u001b[0m\u001b[37m\u001b[0m \u001b[1m0s\u001b[0m 2ms/step - accuracy: 0.8444 - loss: 0.3350 - val_accuracy: 0.7480 - val_loss: 0.4810\n",
      "Epoch 23/50\n",
      "\u001b[1m16/16\u001b[0m \u001b[32m━━━━━━━━━━━━━━━━━━━━\u001b[0m\u001b[37m\u001b[0m \u001b[1m0s\u001b[0m 2ms/step - accuracy: 0.8577 - loss: 0.3328 - val_accuracy: 0.7642 - val_loss: 0.4777\n",
      "Epoch 24/50\n",
      "\u001b[1m16/16\u001b[0m \u001b[32m━━━━━━━━━━━━━━━━━━━━\u001b[0m\u001b[37m\u001b[0m \u001b[1m0s\u001b[0m 2ms/step - accuracy: 0.8560 - loss: 0.3393 - val_accuracy: 0.7398 - val_loss: 0.4747\n",
      "Epoch 25/50\n",
      "\u001b[1m16/16\u001b[0m \u001b[32m━━━━━━━━━━━━━━━━━━━━\u001b[0m\u001b[37m\u001b[0m \u001b[1m0s\u001b[0m 2ms/step - accuracy: 0.8485 - loss: 0.3422 - val_accuracy: 0.7724 - val_loss: 0.4880\n",
      "Epoch 26/50\n",
      "\u001b[1m16/16\u001b[0m \u001b[32m━━━━━━━━━━━━━━━━━━━━\u001b[0m\u001b[37m\u001b[0m \u001b[1m0s\u001b[0m 2ms/step - accuracy: 0.8701 - loss: 0.3032 - val_accuracy: 0.7480 - val_loss: 0.4853\n",
      "Epoch 27/50\n",
      "\u001b[1m16/16\u001b[0m \u001b[32m━━━━━━━━━━━━━━━━━━━━\u001b[0m\u001b[37m\u001b[0m \u001b[1m0s\u001b[0m 2ms/step - accuracy: 0.8748 - loss: 0.2959 - val_accuracy: 0.7480 - val_loss: 0.4928\n",
      "Epoch 28/50\n",
      "\u001b[1m16/16\u001b[0m \u001b[32m━━━━━━━━━━━━━━━━━━━━\u001b[0m\u001b[37m\u001b[0m \u001b[1m0s\u001b[0m 2ms/step - accuracy: 0.8765 - loss: 0.3134 - val_accuracy: 0.7480 - val_loss: 0.4910\n",
      "Epoch 29/50\n",
      "\u001b[1m16/16\u001b[0m \u001b[32m━━━━━━━━━━━━━━━━━━━━\u001b[0m\u001b[37m\u001b[0m \u001b[1m0s\u001b[0m 2ms/step - accuracy: 0.8859 - loss: 0.2759 - val_accuracy: 0.7480 - val_loss: 0.4888\n",
      "Epoch 30/50\n",
      "\u001b[1m16/16\u001b[0m \u001b[32m━━━━━━━━━━━━━━━━━━━━\u001b[0m\u001b[37m\u001b[0m \u001b[1m0s\u001b[0m 2ms/step - accuracy: 0.8706 - loss: 0.2974 - val_accuracy: 0.7561 - val_loss: 0.4956\n",
      "Epoch 31/50\n",
      "\u001b[1m16/16\u001b[0m \u001b[32m━━━━━━━━━━━━━━━━━━━━\u001b[0m\u001b[37m\u001b[0m \u001b[1m0s\u001b[0m 2ms/step - accuracy: 0.8697 - loss: 0.2924 - val_accuracy: 0.7398 - val_loss: 0.4990\n",
      "Epoch 32/50\n",
      "\u001b[1m16/16\u001b[0m \u001b[32m━━━━━━━━━━━━━━━━━━━━\u001b[0m\u001b[37m\u001b[0m \u001b[1m0s\u001b[0m 2ms/step - accuracy: 0.8928 - loss: 0.2603 - val_accuracy: 0.7480 - val_loss: 0.4948\n",
      "Epoch 33/50\n",
      "\u001b[1m16/16\u001b[0m \u001b[32m━━━━━━━━━━━━━━━━━━━━\u001b[0m\u001b[37m\u001b[0m \u001b[1m0s\u001b[0m 2ms/step - accuracy: 0.8963 - loss: 0.2873 - val_accuracy: 0.7724 - val_loss: 0.5025\n",
      "Epoch 34/50\n",
      "\u001b[1m16/16\u001b[0m \u001b[32m━━━━━━━━━━━━━━━━━━━━\u001b[0m\u001b[37m\u001b[0m \u001b[1m0s\u001b[0m 2ms/step - accuracy: 0.8746 - loss: 0.2643 - val_accuracy: 0.7561 - val_loss: 0.5076\n",
      "Epoch 35/50\n",
      "\u001b[1m16/16\u001b[0m \u001b[32m━━━━━━━━━━━━━━━━━━━━\u001b[0m\u001b[37m\u001b[0m \u001b[1m0s\u001b[0m 2ms/step - accuracy: 0.8953 - loss: 0.2695 - val_accuracy: 0.7480 - val_loss: 0.5066\n",
      "Epoch 36/50\n",
      "\u001b[1m16/16\u001b[0m \u001b[32m━━━━━━━━━━━━━━━━━━━━\u001b[0m\u001b[37m\u001b[0m \u001b[1m0s\u001b[0m 2ms/step - accuracy: 0.9060 - loss: 0.2444 - val_accuracy: 0.7724 - val_loss: 0.5221\n",
      "Epoch 37/50\n",
      "\u001b[1m16/16\u001b[0m \u001b[32m━━━━━━━━━━━━━━━━━━━━\u001b[0m\u001b[37m\u001b[0m \u001b[1m0s\u001b[0m 2ms/step - accuracy: 0.9176 - loss: 0.2234 - val_accuracy: 0.7561 - val_loss: 0.5379\n",
      "Epoch 38/50\n",
      "\u001b[1m16/16\u001b[0m \u001b[32m━━━━━━━━━━━━━━━━━━━━\u001b[0m\u001b[37m\u001b[0m \u001b[1m0s\u001b[0m 2ms/step - accuracy: 0.9144 - loss: 0.2538 - val_accuracy: 0.7317 - val_loss: 0.5133\n",
      "Epoch 39/50\n",
      "\u001b[1m16/16\u001b[0m \u001b[32m━━━━━━━━━━━━━━━━━━━━\u001b[0m\u001b[37m\u001b[0m \u001b[1m0s\u001b[0m 2ms/step - accuracy: 0.9159 - loss: 0.2357 - val_accuracy: 0.7398 - val_loss: 0.5665\n",
      "Epoch 40/50\n",
      "\u001b[1m16/16\u001b[0m \u001b[32m━━━━━━━━━━━━━━━━━━━━\u001b[0m\u001b[37m\u001b[0m \u001b[1m0s\u001b[0m 2ms/step - accuracy: 0.8907 - loss: 0.2812 - val_accuracy: 0.7642 - val_loss: 0.5328\n",
      "Epoch 41/50\n",
      "\u001b[1m16/16\u001b[0m \u001b[32m━━━━━━━━━━━━━━━━━━━━\u001b[0m\u001b[37m\u001b[0m \u001b[1m0s\u001b[0m 2ms/step - accuracy: 0.9276 - loss: 0.2149 - val_accuracy: 0.7398 - val_loss: 0.5318\n",
      "Epoch 42/50\n",
      "\u001b[1m16/16\u001b[0m \u001b[32m━━━━━━━━━━━━━━━━━━━━\u001b[0m\u001b[37m\u001b[0m \u001b[1m0s\u001b[0m 2ms/step - accuracy: 0.9273 - loss: 0.2199 - val_accuracy: 0.7561 - val_loss: 0.5438\n",
      "Epoch 43/50\n",
      "\u001b[1m16/16\u001b[0m \u001b[32m━━━━━━━━━━━━━━━━━━━━\u001b[0m\u001b[37m\u001b[0m \u001b[1m0s\u001b[0m 2ms/step - accuracy: 0.9411 - loss: 0.2024 - val_accuracy: 0.7480 - val_loss: 0.5569\n",
      "Epoch 44/50\n",
      "\u001b[1m16/16\u001b[0m \u001b[32m━━━━━━━━━━━━━━━━━━━━\u001b[0m\u001b[37m\u001b[0m \u001b[1m0s\u001b[0m 2ms/step - accuracy: 0.9362 - loss: 0.1966 - val_accuracy: 0.7642 - val_loss: 0.5413\n",
      "Epoch 45/50\n",
      "\u001b[1m16/16\u001b[0m \u001b[32m━━━━━━━━━━━━━━━━━━━━\u001b[0m\u001b[37m\u001b[0m \u001b[1m0s\u001b[0m 2ms/step - accuracy: 0.9265 - loss: 0.2296 - val_accuracy: 0.7561 - val_loss: 0.5524\n",
      "Epoch 46/50\n",
      "\u001b[1m16/16\u001b[0m \u001b[32m━━━━━━━━━━━━━━━━━━━━\u001b[0m\u001b[37m\u001b[0m \u001b[1m0s\u001b[0m 2ms/step - accuracy: 0.9370 - loss: 0.2104 - val_accuracy: 0.7398 - val_loss: 0.6008\n",
      "Epoch 47/50\n",
      "\u001b[1m16/16\u001b[0m \u001b[32m━━━━━━━━━━━━━━━━━━━━\u001b[0m\u001b[37m\u001b[0m \u001b[1m0s\u001b[0m 2ms/step - accuracy: 0.9050 - loss: 0.2120 - val_accuracy: 0.7561 - val_loss: 0.5529\n",
      "Epoch 48/50\n",
      "\u001b[1m16/16\u001b[0m \u001b[32m━━━━━━━━━━━━━━━━━━━━\u001b[0m\u001b[37m\u001b[0m \u001b[1m0s\u001b[0m 2ms/step - accuracy: 0.9280 - loss: 0.2105 - val_accuracy: 0.7642 - val_loss: 0.5709\n",
      "Epoch 49/50\n",
      "\u001b[1m16/16\u001b[0m \u001b[32m━━━━━━━━━━━━━━━━━━━━\u001b[0m\u001b[37m\u001b[0m \u001b[1m0s\u001b[0m 2ms/step - accuracy: 0.9301 - loss: 0.1945 - val_accuracy: 0.7724 - val_loss: 0.5617\n",
      "Epoch 50/50\n",
      "\u001b[1m16/16\u001b[0m \u001b[32m━━━━━━━━━━━━━━━━━━━━\u001b[0m\u001b[37m\u001b[0m \u001b[1m0s\u001b[0m 2ms/step - accuracy: 0.9463 - loss: 0.1725 - val_accuracy: 0.7398 - val_loss: 0.5941\n",
      "\u001b[1m3/3\u001b[0m \u001b[32m━━━━━━━━━━━━━━━━━━━━\u001b[0m\u001b[37m\u001b[0m \u001b[1m0s\u001b[0m 993us/step - accuracy: 0.7568 - loss: 0.7676\n",
      "Test Loss: 0.7382\n",
      "Test Accuracy: 0.7792\n"
     ]
    }
   ],
   "source": [
    "import tensorflow as tf\n",
    "from tensorflow.keras.models import Sequential\n",
    "from tensorflow.keras.layers import Dense\n",
    "from tensorflow.keras.optimizers import Adam\n",
    "model = Sequential([\n",
    "    Dense(256, input_shape=(8,), activation='relu'),\n",
    "    Dense(256, activation='relu'),\n",
    "    Dense(1, activation='sigmoid')  \n",
    "])\n",
    "\n",
    "model.compile(optimizer=Adam(learning_rate = 0.001), loss='binary_crossentropy', metrics=['accuracy'])\n",
    "\n",
    "history = model.fit(X_train_ss, y_train_ss, epochs=50, validation_split=0.2)\n",
    "\n",
    "test_loss, test_accuracy = model.evaluate(X_test_ss, y_test_ss)\n",
    "print(f\"Test Loss: {test_loss:.4f}\")\n",
    "print(f\"Test Accuracy: {test_accuracy:.4f}\")"
   ]
  },
  {
   "cell_type": "markdown",
   "id": "d226da95",
   "metadata": {},
   "source": [
    "# Final Conclusions:\n",
    "\n",
    "\n",
    "The Best Results were given by the Tensorflow Neural Network(77%)\n",
    "\n",
    "All of the Sci-kit learn modules resulted in very similar results:\n",
    "\n",
    "With this data, Pre-Processing had very minimal improvements to the data. Catagorical Data will definetely benefit more from pre-processing techniques.\n"
   ]
  },
  {
   "cell_type": "code",
   "execution_count": null,
   "id": "d24c88cb",
   "metadata": {},
   "outputs": [],
   "source": []
  }
 ],
 "metadata": {
  "kernelspec": {
   "display_name": "Python 3 (ipykernel)",
   "language": "python",
   "name": "python3"
  },
  "language_info": {
   "codemirror_mode": {
    "name": "ipython",
    "version": 3
   },
   "file_extension": ".py",
   "mimetype": "text/x-python",
   "name": "python",
   "nbconvert_exporter": "python",
   "pygments_lexer": "ipython3",
   "version": "3.11.4"
  }
 },
 "nbformat": 4,
 "nbformat_minor": 5
}
